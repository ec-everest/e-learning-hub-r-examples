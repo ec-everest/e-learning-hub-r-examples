{
 "cells": [
  {
   "cell_type": "markdown",
   "metadata": {},
   "source": [
    "# How to install additional R packages"
   ]
  },
  {
   "cell_type": "markdown",
   "metadata": {},
   "source": [
    "You can install additional packages on your workspace."
   ]
  },
  {
   "cell_type": "markdown",
   "metadata": {},
   "source": [
    "First of all, you need to prepare the environment:"
   ]
  },
  {
   "cell_type": "code",
   "execution_count": 7,
   "metadata": {},
   "outputs": [],
   "source": [
    "Sys.setenv(PATH = paste(\"/opt/anaconda/envs/python2/bin/\", Sys.getenv(\"PATH\"), sep=\":\"))"
   ]
  },
  {
   "cell_type": "code",
   "execution_count": 8,
   "metadata": {},
   "outputs": [],
   "source": [
    ".libPaths( c( .libPaths(), \"/workspace/userLibrary\") )"
   ]
  },
  {
   "cell_type": "markdown",
   "metadata": {},
   "source": [
    "Then, you will be able to install additional packages. For instance:"
   ]
  },
  {
   "cell_type": "code",
   "execution_count": 9,
   "metadata": {},
   "outputs": [],
   "source": [
    "install.packages(\"mvtnorm\", repos='http://cran.rstudio.com', lib='/workspace/userLibrary')"
   ]
  },
  {
   "cell_type": "code",
   "execution_count": 10,
   "metadata": {},
   "outputs": [],
   "source": [
    "library(\"mvtnorm\")"
   ]
  },
  {
   "cell_type": "code",
   "execution_count": 11,
   "metadata": {},
   "outputs": [],
   "source": [
    "install.packages(\"rgdal\", type = \"source\", configure.args = \"--with-proj-include=/opt/anaconda/envs/python2/include --with-proj-lib=/opt/anaconda/envs/python2/lib  --with-proj-share=/opt/anaconda/envs/python2/share\", dependencies = TRUE, repos= \"http://cran.rstudio.com\",lib='/workspace/userLibrary')"
   ]
  },
  {
   "cell_type": "code",
   "execution_count": 12,
   "metadata": {},
   "outputs": [
    {
     "name": "stderr",
     "output_type": "stream",
     "text": [
      "Loading required package: sp\n",
      "rgdal: version: 1.3-4, (SVN revision 766)\n",
      " Geospatial Data Abstraction Library extensions to R successfully loaded\n",
      " Loaded GDAL runtime: GDAL 2.2.2, released 2017/09/15\n",
      " Path to GDAL shared files: /opt/anaconda/envs/python2/share/gdal\n",
      " GDAL binary built with GEOS: TRUE \n",
      " Loaded PROJ.4 runtime: Rel. 4.9.3, 15 August 2016, [PJ_VERSION: 493]\n",
      " Path to PROJ.4 shared files: (autodetected)\n",
      " Linking to sp version: 1.3-1 \n"
     ]
    }
   ],
   "source": [
    "library(\"rgdal\")"
   ]
  },
  {
   "cell_type": "code",
   "execution_count": null,
   "metadata": {},
   "outputs": [
    {
     "name": "stderr",
     "output_type": "stream",
     "text": [
      "Warning message:\n",
      "“dependency ‘adehabitat’ is not available”also installing the dependencies ‘triebeard’, ‘curl’, ‘urltools’, ‘httpcode’, ‘rgeos’, ‘rJava’, ‘spatstat.data’, ‘spatstat.utils’, ‘deldir’, ‘abind’, ‘tensor’, ‘polyclip’, ‘goftest’, ‘crul’, ‘oai’, ‘geoaxe’, ‘wicket’, ‘snow’, ‘maptools’, ‘fossil’, ‘spcosa’, ‘rjson’, ‘animation’, ‘spatstat’, ‘rgbif’, ‘GSIF’, ‘gdalUtils’, ‘snowfall’\n",
      "\n",
      "Warning message in install.packages(\"plotKML\", dependencies = TRUE, repos = \"http://cran.rstudio.com\", :\n",
      "“installation of package ‘rJava’ had non-zero exit status”Warning message in install.packages(\"plotKML\", dependencies = TRUE, repos = \"http://cran.rstudio.com\", :\n",
      "“installation of package ‘spcosa’ had non-zero exit status”"
     ]
    }
   ],
   "source": [
    "install.packages(\"plotKML\", dependencies = TRUE, repos='http://cran.rstudio.com', lib='/workspace/userLibrary')"
   ]
  },
  {
   "cell_type": "code",
   "execution_count": 14,
   "metadata": {},
   "outputs": [
    {
     "ename": "ERROR",
     "evalue": "Error: package or namespace load failed for ‘plotKML’\n",
     "output_type": "error",
     "traceback": [
      "Error: package or namespace load failed for ‘plotKML’\nTraceback:\n",
      "1. library(\"plotKML\")",
      "2. stop(gettextf(\"package or namespace load failed for %s\", sQuote(package)), \n .     call. = FALSE, domain = NA)"
     ]
    }
   ],
   "source": [
    "library(\"plotKML\")"
   ]
  },
  {
   "cell_type": "code",
   "execution_count": null,
   "metadata": {},
   "outputs": [],
   "source": []
  }
 ],
 "metadata": {
  "kernelspec": {
   "display_name": "R",
   "language": "R",
   "name": "ir"
  },
  "language_info": {
   "codemirror_mode": "r",
   "file_extension": ".r",
   "mimetype": "text/x-r-source",
   "name": "R",
   "pygments_lexer": "r",
   "version": "3.3.2"
  }
 },
 "nbformat": 4,
 "nbformat_minor": 2
}
